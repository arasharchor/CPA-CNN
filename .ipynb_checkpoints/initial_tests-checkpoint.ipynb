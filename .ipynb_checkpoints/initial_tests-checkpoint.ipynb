{
 "cells": [
  {
   "cell_type": "code",
   "execution_count": 2,
   "metadata": {
    "collapsed": false
   },
   "outputs": [
    {
     "name": "stdout",
     "output_type": "stream",
     "text": [
      "(2283, 40, 40)\n"
     ]
    }
   ],
   "source": [
    "## Data Preprocessing\n",
    "\n",
    "import glob\n",
    "from PIL import Image\n",
    "import numpy as np\n",
    "\n",
    "img_rows = 40\n",
    "img_cols = 40\n",
    "nb_classes = 23\n",
    "\n",
    "# Generate X and y for Convolutional Neural Network\n",
    "X = []\n",
    "y= []\n",
    "\n",
    "# Get all the images and convert them into greyscale\n",
    "for path in glob.glob('./cropped_data/*.png'):\n",
    "    im = Image.open(path)\n",
    "    grey_im = im.convert('L')\n",
    "    # Convert them into numpy\n",
    "    X += [np.array(grey_im)]\n",
    "    y += [path.split('_')[1].split('/')[1]] # extract the label from path\n",
    "    \n",
    "X = np.array(X)\n",
    "print X.shape\n",
    "y = np.array(y)\n",
    "\n",
    "X_train = X # stupid, taking full dataset"
   ]
  },
  {
   "cell_type": "code",
   "execution_count": 3,
   "metadata": {
    "collapsed": false
   },
   "outputs": [
    {
     "name": "stdout",
     "output_type": "stream",
     "text": [
      "(2283, 'train samples')\n"
     ]
    }
   ],
   "source": [
    "# Normalize \n",
    "\n",
    "X_train = X_train.reshape(X_train.shape[0], 1, img_rows, img_cols)\n",
    "#X_test = X_test.reshape(X_test.shape[0], 1, img_rows, img_cols)\n",
    "X_train = X_train.astype('float32')\n",
    "#X_test = X_test.astype('float32')\n",
    "X_train /= 255 #Normalize\n",
    "#X_test /= 255\n",
    "print(X_train.shape[0], 'train samples')\n",
    "#print(X_test.shape[0], 'test samples')"
   ]
  },
  {
   "cell_type": "code",
   "execution_count": 38,
   "metadata": {
    "collapsed": false
   },
   "outputs": [
    {
     "data": {
      "text/plain": [
       "0.15767625"
      ]
     },
     "execution_count": 38,
     "metadata": {},
     "output_type": "execute_result"
    }
   ],
   "source": [
    "X_train.mean() # maybe minus mean image?"
   ]
  },
  {
   "cell_type": "code",
   "execution_count": 4,
   "metadata": {
    "collapsed": false
   },
   "outputs": [
    {
     "name": "stdout",
     "output_type": "stream",
     "text": [
      "{'halfcircle': 7, 'interphase': 10, 'metaphase': 15, 'earlyprophase': 4, 'debris': 3, 'nucleolirim': 19, 'kidney': 11, 'telophase': 22, 'blurry': 2, 'fragmented': 6, 'apoptotic': 1, 'latepro': 12, 'multinucleate': 18, 'prophase': 20, 'anaphase': 0, 'indented': 9, 'monopole': 17, 'holey': 8, 'latetelophase': 13, 'lines': 14, 'micronucleus': 16, 'round': 21, 'elongated': 5}\n",
      "(2283, 23)\n"
     ]
    }
   ],
   "source": [
    "# Convert y into Y\n",
    "\n",
    "from keras.utils import np_utils, generic_utils\n",
    "\n",
    "# Convert labels to numeric\n",
    "y_unique = np.unique(y)\n",
    "dic = {}\n",
    "\n",
    "for i, label in enumerate(y_unique):\n",
    "    dic[label] = i\n",
    "print dic\n",
    "\n",
    "y_numeric = []\n",
    "for el in y:\n",
    "    y_numeric += [dic[el]]\n",
    "    \n",
    "y_numeric # now a 2000 label vector\n",
    "Y = np_utils.to_categorical(y_numeric, nb_classes)\n",
    "\n",
    "print Y.shape\n",
    "\n",
    "Y_train = Y"
   ]
  },
  {
   "cell_type": "code",
   "execution_count": 6,
   "metadata": {
    "collapsed": false
   },
   "outputs": [
    {
     "name": "stderr",
     "output_type": "stream",
     "text": [
      "Using TensorFlow backend.\n"
     ]
    }
   ],
   "source": [
    "## Convolutional Neural Network with 2 convolutions\n",
    "\n",
    "from keras.models import Sequential\n",
    "from keras.datasets import mnist\n",
    "from keras.preprocessing.image import ImageDataGenerator\n",
    "from keras.models import Sequential\n",
    "from keras.layers.core import Dense, Dropout, Activation, Flatten\n",
    "from keras.layers.convolutional import Convolution2D, MaxPooling2D\n",
    "from keras.optimizers import SGD, Adadelta, Adagrad\n",
    "\n",
    "batch_size = 128\n",
    "nb_epoch = 12\n",
    "\n",
    "\n",
    "# number of convolutional filters to use\n",
    "nb_filters = 32\n",
    "# size of pooling area for max pooling\n",
    "nb_pool = 2\n",
    "# convolution kernel size\n",
    "nb_conv = 3\n",
    "# the data images are greyscale\n",
    "img_channels = 1\n",
    "\n",
    "model = Sequential()\n",
    "\n",
    "model.add(Convolution2D(nb_filters, nb_conv, nb_conv,\n",
    "                        border_mode='valid',\n",
    "                        input_shape=(img_channels, img_rows, img_cols)))\n",
    "model.add(Activation('relu'))\n",
    "model.add(Convolution2D(nb_filters, nb_conv, nb_conv))\n",
    "model.add(Activation('relu'))\n",
    "model.add(MaxPooling2D(pool_size=(nb_pool, nb_pool)))\n",
    "model.add(Dropout(0.25))\n",
    "\n",
    "model.add(Flatten())\n",
    "model.add(Dense(128))\n",
    "model.add(Activation('relu'))\n",
    "model.add(Dropout(0.5))\n",
    "model.add(Dense(nb_classes))\n",
    "model.add(Activation('softmax'))\n",
    "\n",
    "\n"
   ]
  },
  {
   "cell_type": "code",
   "execution_count": 7,
   "metadata": {
    "collapsed": false
   },
   "outputs": [],
   "source": [
    "sgd = SGD(lr=0.01, decay=1e-6, momentum=0.9, nesterov=True)\n",
    "model.compile(loss='categorical_crossentropy', optimizer='sgd')"
   ]
  },
  {
   "cell_type": "code",
   "execution_count": null,
   "metadata": {
    "collapsed": false
   },
   "outputs": [
    {
     "name": "stdout",
     "output_type": "stream",
     "text": [
      "Epoch 1/12\n",
      "2283/2283 [==============================] - 13s - loss: 2.7063 - acc: 0.3798    \n",
      "Epoch 2/12\n",
      " 128/2283 [>.............................] - ETA: 16s - loss: 2.5051 - acc: 0.4453"
     ]
    }
   ],
   "source": [
    "from keras import callbacks\n",
    "log = callbacks.TensorBoard(log_dir='./logs', histogram_freq=0)\n",
    "model.fit(X_train, Y_train, batch_size=batch_size, nb_epoch=nb_epoch, show_accuracy=True, callbacks=[log])"
   ]
  },
  {
   "cell_type": "code",
   "execution_count": 29,
   "metadata": {
    "collapsed": false
   },
   "outputs": [],
   "source": [
    "nb_epoch = "
   ]
  },
  {
   "cell_type": "code",
   "execution_count": 30,
   "metadata": {
    "collapsed": false
   },
   "outputs": [
    {
     "name": "stdout",
     "output_type": "stream",
     "text": [
      "Epoch 1/50\n",
      "2283/2283 [==============================] - 11s - loss: 2.2385 - acc: 0.4525    \n",
      "Epoch 2/50\n",
      "2283/2283 [==============================] - 12s - loss: 2.2346 - acc: 0.4599    \n",
      "Epoch 3/50\n",
      "2283/2283 [==============================] - 13s - loss: 2.2026 - acc: 0.4586    \n",
      "Epoch 4/50\n",
      "2283/2283 [==============================] - 14s - loss: 2.1704 - acc: 0.4564    \n",
      "Epoch 5/50\n",
      "2283/2283 [==============================] - 14s - loss: 2.1500 - acc: 0.4617    \n",
      "Epoch 6/50\n",
      "2283/2283 [==============================] - 13s - loss: 2.1495 - acc: 0.4617    \n",
      "Epoch 7/50\n",
      "2283/2283 [==============================] - 13s - loss: 2.1343 - acc: 0.4582    \n",
      "Epoch 8/50\n",
      "2283/2283 [==============================] - 13s - loss: 2.0890 - acc: 0.4674    \n",
      "Epoch 9/50\n",
      "2283/2283 [==============================] - 14s - loss: 2.0553 - acc: 0.4674    \n",
      "Epoch 10/50\n",
      "2283/2283 [==============================] - 13s - loss: 2.0623 - acc: 0.4604    \n",
      "Epoch 11/50\n",
      "2283/2283 [==============================] - 14s - loss: 2.0496 - acc: 0.4661    \n",
      "Epoch 12/50\n",
      "2283/2283 [==============================] - 13s - loss: 2.0306 - acc: 0.4661    \n",
      "Epoch 13/50\n",
      "2283/2283 [==============================] - 13s - loss: 2.0252 - acc: 0.4696    \n",
      "Epoch 14/50\n",
      "2283/2283 [==============================] - 13s - loss: 1.9984 - acc: 0.4709    \n",
      "Epoch 15/50\n",
      "2283/2283 [==============================] - 14s - loss: 1.9852 - acc: 0.4700    \n",
      "Epoch 16/50\n",
      "2283/2283 [==============================] - 14s - loss: 1.9591 - acc: 0.4744    \n",
      "Epoch 17/50\n",
      "2283/2283 [==============================] - 13s - loss: 1.9657 - acc: 0.4744    \n",
      "Epoch 18/50\n",
      "2283/2283 [==============================] - 14s - loss: 1.9716 - acc: 0.4717    \n",
      "Epoch 19/50\n",
      "2283/2283 [==============================] - 13s - loss: 1.9618 - acc: 0.4774    \n",
      "Epoch 20/50\n",
      "2283/2283 [==============================] - 13s - loss: 1.9308 - acc: 0.4774    \n",
      "Epoch 21/50\n",
      "2283/2283 [==============================] - 13s - loss: 1.9620 - acc: 0.4836    \n",
      "Epoch 22/50\n",
      "2283/2283 [==============================] - 13s - loss: 1.8907 - acc: 0.4858    \n",
      "Epoch 23/50\n",
      "2283/2283 [==============================] - 14s - loss: 1.9137 - acc: 0.4827    \n",
      "Epoch 24/50\n",
      "2283/2283 [==============================] - 15s - loss: 1.8760 - acc: 0.4963    \n",
      "Epoch 25/50\n",
      "2283/2283 [==============================] - 14s - loss: 1.8729 - acc: 0.4950    \n",
      "Epoch 26/50\n",
      "2283/2283 [==============================] - 13s - loss: 1.8608 - acc: 0.5002    \n",
      "Epoch 27/50\n",
      "2283/2283 [==============================] - 13s - loss: 1.8724 - acc: 0.4928    \n",
      "Epoch 28/50\n",
      "2283/2283 [==============================] - 13s - loss: 1.8518 - acc: 0.5028    \n",
      "Epoch 29/50\n",
      "2283/2283 [==============================] - 14s - loss: 1.8773 - acc: 0.4923    \n",
      "Epoch 30/50\n",
      "2283/2283 [==============================] - 13s - loss: 1.8497 - acc: 0.5033    \n",
      "Epoch 31/50\n",
      "2283/2283 [==============================] - 14s - loss: 1.8430 - acc: 0.5033    \n",
      "Epoch 32/50\n",
      "2283/2283 [==============================] - 13s - loss: 1.8186 - acc: 0.5011    \n",
      "Epoch 33/50\n",
      "2283/2283 [==============================] - 14s - loss: 1.8215 - acc: 0.5090    \n",
      "Epoch 34/50\n",
      "2283/2283 [==============================] - 13s - loss: 1.8017 - acc: 0.5147    \n",
      "Epoch 35/50\n",
      "2283/2283 [==============================] - 13s - loss: 1.8070 - acc: 0.5081    \n",
      "Epoch 36/50\n",
      "2283/2283 [==============================] - 13s - loss: 1.7922 - acc: 0.5103    \n",
      "Epoch 37/50\n",
      "2283/2283 [==============================] - 13s - loss: 1.7802 - acc: 0.5120    \n",
      "Epoch 38/50\n",
      "2283/2283 [==============================] - 13s - loss: 1.7890 - acc: 0.5059    \n",
      "Epoch 39/50\n",
      "2283/2283 [==============================] - 13s - loss: 1.7804 - acc: 0.5116    \n",
      "Epoch 40/50\n",
      "2283/2283 [==============================] - 14s - loss: 1.7561 - acc: 0.5191    \n",
      "Epoch 41/50\n",
      "2283/2283 [==============================] - 13s - loss: 1.7616 - acc: 0.5120    \n",
      "Epoch 42/50\n",
      "2283/2283 [==============================] - 13s - loss: 1.7813 - acc: 0.5064    \n",
      "Epoch 43/50\n",
      "2283/2283 [==============================] - 13s - loss: 1.7488 - acc: 0.5278    \n",
      "Epoch 44/50\n",
      "2283/2283 [==============================] - 13s - loss: 1.7437 - acc: 0.5177    \n",
      "Epoch 45/50\n",
      "2283/2283 [==============================] - 13s - loss: 1.7187 - acc: 0.5199    \n",
      "Epoch 46/50\n",
      "2283/2283 [==============================] - 13s - loss: 1.7220 - acc: 0.5204    \n",
      "Epoch 47/50\n",
      "2283/2283 [==============================] - 14s - loss: 1.7449 - acc: 0.5182    \n",
      "Epoch 48/50\n",
      "2283/2283 [==============================] - 13s - loss: 1.7322 - acc: 0.5243    \n",
      "Epoch 49/50\n",
      "2283/2283 [==============================] - 14s - loss: 1.7146 - acc: 0.5226    \n",
      "Epoch 50/50\n",
      "2283/2283 [==============================] - 14s - loss: 1.7140 - acc: 0.5212    \n"
     ]
    },
    {
     "data": {
      "text/plain": [
       "<keras.callbacks.History at 0x104ddf4d0>"
      ]
     },
     "execution_count": 30,
     "metadata": {},
     "output_type": "execute_result"
    }
   ],
   "source": [
    "model.fit(X_train, Y_train, batch_size=batch_size, nb_epoch=nb_epoch, show_accuracy=True, callbacks=[log])"
   ]
  },
  {
   "cell_type": "code",
   "execution_count": 33,
   "metadata": {
    "collapsed": false
   },
   "outputs": [],
   "source": []
  },
  {
   "cell_type": "code",
   "execution_count": null,
   "metadata": {
    "collapsed": true
   },
   "outputs": [],
   "source": []
  }
 ],
 "metadata": {
  "kernelspec": {
   "display_name": "Python 2",
   "language": "python",
   "name": "python2"
  },
  "language_info": {
   "codemirror_mode": {
    "name": "ipython",
    "version": 2
   },
   "file_extension": ".py",
   "mimetype": "text/x-python",
   "name": "python",
   "nbconvert_exporter": "python",
   "pygments_lexer": "ipython2",
   "version": "2.7.10"
  }
 },
 "nbformat": 4,
 "nbformat_minor": 0
}
