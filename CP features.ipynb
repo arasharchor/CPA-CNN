{
 "cells": [
  {
   "cell_type": "code",
   "execution_count": 1,
   "metadata": {
    "collapsed": false
   },
   "outputs": [],
   "source": [
    "import numpy as np\n",
    "np.random.seed(0)\n",
    "\n",
    "import pandas as pd\n",
    "#df = pd.read_csv('Anne_DNA_66.csv')\n",
    "#df = pd.read_csv('Mark_DNA_75.csv')\n",
    "df = pd.read_csv('../subpop_data/B6_robust_linear_training.txt', sep='\\t', header=None)"
   ]
  },
  {
   "cell_type": "code",
   "execution_count": 2,
   "metadata": {
    "collapsed": false
   },
   "outputs": [],
   "source": [
    "# Downsampling Naive\n",
    "df = df[df[0] != 'interphase']\n",
    "#df_x = pd.read_csv('Anne_DNA_66.csv')\n",
    "#df_x = pd.read_csv('Mark_DNA_75.csv')\n",
    "#trimmed_interphase = df_x[df_x['Class'] == 'interphase'].head(150)\n",
    "df_x = pd.read_csv('../subpop_data/B6_robust_linear_training.txt', sep='\\t', header=None)\n",
    "\n",
    "trimmed_interphase = df_x[df_x[0] == 'interphase'].head(150)\n",
    "df = pd.concat([df, trimmed_interphase],axis=0) # Add interphase but balanced"
   ]
  },
  {
   "cell_type": "code",
   "execution_count": 3,
   "metadata": {
    "collapsed": false
   },
   "outputs": [],
   "source": [
    "y = df[0].values"
   ]
  },
  {
   "cell_type": "code",
   "execution_count": 4,
   "metadata": {
    "collapsed": false
   },
   "outputs": [],
   "source": [
    "# df = df.drop('TableNumber', 1)\n",
    "# df = df.drop('ImageNumber', 1)\n",
    "# df = df.drop('ObjectNumber', 1)\n",
    "# df = df.drop('Class', 1)\n",
    "# df = df.drop('Nuclei_AreaShape_EulerNumber', 1)\n",
    "df = df.drop(0,1)\n",
    "df = df.drop(1,1)\n",
    "#df"
   ]
  },
  {
   "cell_type": "code",
   "execution_count": 5,
   "metadata": {
    "collapsed": false
   },
   "outputs": [],
   "source": [
    "#df_norm = (df - df.mean()) / (df.max() - df.min())\n",
    "#df_norm.values.shape\n",
    "\n",
    "df_norm = df\n",
    "X_train = df_norm.values"
   ]
  },
  {
   "cell_type": "code",
   "execution_count": null,
   "metadata": {
    "collapsed": false
   },
   "outputs": [],
   "source": [
    "np.unique(y)"
   ]
  },
  {
   "cell_type": "code",
   "execution_count": null,
   "metadata": {
    "collapsed": false,
    "scrolled": true
   },
   "outputs": [],
   "source": [
    "from sklearn.cross_validation import train_test_split\n",
    "X_train_original, X_test, y_train_original, y_test = train_test_split(df.values, y, test_size=0.20, random_state=42)\n",
    "\n",
    "# from unbalanced_dataset import OverSampler\n",
    "\n",
    "# sampler = OverSampler()\n",
    "# X_train, y = sampler.fit_transform(X_train_original, y_train_original)\n",
    "\n",
    "# No Over Sampling\n",
    "X_train = X_train_original\n",
    "y = y_train_original"
   ]
  },
  {
   "cell_type": "code",
   "execution_count": 6,
   "metadata": {
    "collapsed": false
   },
   "outputs": [
    {
     "name": "stdout",
     "output_type": "stream",
     "text": [
      "{'halfcircle': 7, 'interphase': 10, 'metaphase': 15, 'earlyprophase': 4, 'debris': 3, 'nucleolirim': 19, 'kidney': 11, 'telophase': 22, 'blurry': 2, 'fragmented': 6, 'apoptotic': 1, 'multinucleate': 18, 'latepro_earlyana': 12, 'prophase': 20, 'anaphase': 0, 'indented': 9, 'monopole': 17, 'holey': 8, 'latetelophase': 13, 'lines': 14, 'micronucleus': 16, 'round': 21, 'elongated': 5}\n",
      "(1456, 23)\n"
     ]
    },
    {
     "data": {
      "text/plain": [
       "['anaphase',\n",
       " 'apoptotic',\n",
       " 'blurry',\n",
       " 'debris',\n",
       " 'earlyprophase',\n",
       " 'elongated',\n",
       " 'fragmented',\n",
       " 'halfcircle',\n",
       " 'holey',\n",
       " 'indented',\n",
       " 'interphase',\n",
       " 'kidney',\n",
       " 'latepro_earlyana',\n",
       " 'latetelophase',\n",
       " 'lines',\n",
       " 'metaphase',\n",
       " 'micronucleus',\n",
       " 'monopole',\n",
       " 'multinucleate',\n",
       " 'nucleolirim',\n",
       " 'prophase',\n",
       " 'round',\n",
       " 'telophase']"
      ]
     },
     "execution_count": 6,
     "metadata": {},
     "output_type": "execute_result"
    }
   ],
   "source": [
    "# Convert y into Y\n",
    "nb_classes = 23\n",
    "import numpy as np\n",
    "from keras.utils import np_utils, generic_utils\n",
    "\n",
    "# Convert labels to numeric\n",
    "y_unique = np.unique(y)\n",
    "dic = {}\n",
    "labels = []\n",
    "for i, label in enumerate(y_unique):\n",
    "    dic[label] = i\n",
    "    labels += [label]\n",
    "print dic\n",
    "\n",
    "y_numeric = []\n",
    "for el in y:\n",
    "    y_numeric += [dic[el]]\n",
    "    \n",
    "y_numeric # now a 2000 label vector\n",
    "Y = np_utils.to_categorical(y_numeric, nb_classes)\n",
    "\n",
    "print Y.shape\n",
    "\n",
    "Y_train = Y\n",
    "labels"
   ]
  },
  {
   "cell_type": "code",
   "execution_count": 8,
   "metadata": {
    "collapsed": false
   },
   "outputs": [
    {
     "ename": "NameError",
     "evalue": "name 'y_test' is not defined",
     "output_type": "error",
     "traceback": [
      "\u001b[1;31m---------------------------------------------------------------------------\u001b[0m",
      "\u001b[1;31mNameError\u001b[0m                                 Traceback (most recent call last)",
      "\u001b[1;32m<ipython-input-8-b229af7c257a>\u001b[0m in \u001b[0;36m<module>\u001b[1;34m()\u001b[0m\n\u001b[0;32m      1\u001b[0m \u001b[0my_test_numeric\u001b[0m \u001b[1;33m=\u001b[0m \u001b[1;33m[\u001b[0m\u001b[1;33m]\u001b[0m\u001b[1;33m\u001b[0m\u001b[0m\n\u001b[1;32m----> 2\u001b[1;33m \u001b[1;32mfor\u001b[0m \u001b[0mel\u001b[0m \u001b[1;32min\u001b[0m \u001b[0my_test\u001b[0m\u001b[1;33m:\u001b[0m\u001b[1;33m\u001b[0m\u001b[0m\n\u001b[0m\u001b[0;32m      3\u001b[0m     \u001b[0my_test_numeric\u001b[0m \u001b[1;33m+=\u001b[0m \u001b[1;33m[\u001b[0m\u001b[0mdic\u001b[0m\u001b[1;33m[\u001b[0m\u001b[0mel\u001b[0m\u001b[1;33m]\u001b[0m\u001b[1;33m]\u001b[0m\u001b[1;33m\u001b[0m\u001b[0m\n\u001b[0;32m      4\u001b[0m \u001b[1;33m\u001b[0m\u001b[0m\n\u001b[0;32m      5\u001b[0m \u001b[0mY_test\u001b[0m \u001b[1;33m=\u001b[0m \u001b[0mnp_utils\u001b[0m\u001b[1;33m.\u001b[0m\u001b[0mto_categorical\u001b[0m\u001b[1;33m(\u001b[0m\u001b[0my_test_numeric\u001b[0m\u001b[1;33m,\u001b[0m \u001b[0mnb_classes\u001b[0m\u001b[1;33m)\u001b[0m\u001b[1;33m\u001b[0m\u001b[0m\n",
      "\u001b[1;31mNameError\u001b[0m: name 'y_test' is not defined"
     ]
    }
   ],
   "source": [
    "y_train_original_numeric = []\n",
    "for el in y_train_original:\n",
    "    y_train_original_numeric += [dic[el]]\n",
    "\n",
    "y_test_numeric = []\n",
    "for el in y_test:\n",
    "    y_test_numeric += [dic[el]]\n",
    "\n",
    "Y_test = np_utils.to_categorical(y_test_numeric, nb_classes)\n",
    "\n",
    "np.array(y_test_numeric)"
   ]
  },
  {
   "cell_type": "code",
   "execution_count": 13,
   "metadata": {
    "collapsed": true
   },
   "outputs": [],
   "source": [
    "y_test_numeric = y_numeric_eval\n",
    "X_test = X_eval"
   ]
  },
  {
   "cell_type": "code",
   "execution_count": 9,
   "metadata": {
    "collapsed": false
   },
   "outputs": [
    {
     "name": "stdout",
     "output_type": "stream",
     "text": [
      "1302 154\n",
      "1303 153\n",
      "1306 150\n",
      "1307 149\n",
      "1309 147\n",
      "1310 146\n",
      "1312 144\n",
      "1316 140\n",
      "1318 138\n",
      "1321 135\n"
     ]
    },
    {
     "data": {
      "text/plain": [
       "(1456, 23)"
      ]
     },
     "execution_count": 9,
     "metadata": {},
     "output_type": "execute_result"
    }
   ],
   "source": [
    "from sklearn.cross_validation import StratifiedKFold\n",
    "\n",
    "#print y_numeric\n",
    "skl = StratifiedKFold(y_numeric, n_folds=10)\n",
    "\n",
    "y_numeric = np.array(y_numeric)\n",
    "\n",
    "i = 0\n",
    "for train,test in skl:\n",
    "    print len(train), len(test)\n",
    "    \n",
    "X_4 = X_train[train]\n",
    "Y_4 = Y[train]\n",
    "y_numeric_4 = y_numeric[train]\n",
    "\n",
    "X_eval = X_train[test]\n",
    "Y_eval = Y[test]\n",
    "y_numeric_eval = y_numeric[test]\n",
    "\n",
    "X_stratified = np.append(X_4,X_eval,axis=0)\n",
    "Y_stratified = np.append(Y_4,Y_eval,axis=0)\n",
    "\n",
    "X_stratified.shape\n",
    "Y_stratified.shape"
   ]
  },
  {
   "cell_type": "code",
   "execution_count": 10,
   "metadata": {
    "collapsed": false
   },
   "outputs": [
    {
     "name": "stderr",
     "output_type": "stream",
     "text": [
      "Using TensorFlow backend.\n"
     ]
    }
   ],
   "source": [
    "## Convolutional Neural Network with 2 convolutions\n",
    "import keras\n",
    "from keras.models import Sequential\n",
    "from keras.datasets import mnist\n",
    "from keras.preprocessing.image import ImageDataGenerator\n",
    "from keras.models import Sequential\n",
    "from keras.layers.core import Dense, Dropout, Activation, Flatten\n",
    "from keras.layers.convolutional import Convolution2D, MaxPooling2D, ZeroPadding2D\n",
    "from keras.optimizers import SGD, Adadelta, Adagrad, Adam\n",
    "from keras.layers.normalization import BatchNormalization\n",
    "from keras.layers.advanced_activations import PReLU\n",
    "\n",
    "nb_epoch = 12"
   ]
  },
  {
   "cell_type": "code",
   "execution_count": 11,
   "metadata": {
    "collapsed": false
   },
   "outputs": [],
   "source": [
    "model = Sequential()\n",
    "model.add(Dense(64, input_dim=97))\n",
    "#model.add(BatchNormalization(epsilon=1e-06, mode=0, axis=-1, momentum=0.9, weights=None))\n",
    "model.add(Activation('relu'))\n",
    "model.add(Dropout(0.5))\n",
    "\n",
    "model.add(Dense(256))\n",
    "#model.add(BatchNormalization(epsilon=1e-06, mode=0, axis=-1, momentum=0.9, weights=None))\n",
    "model.add(Activation('relu'))\n",
    "model.add(Dropout(0.5))\n",
    "\n",
    "model.add(Dense(4096))\n",
    "#model.add(BatchNormalization(epsilon=1e-06, mode=0, axis=-1, momentum=0.9, weights=None))\n",
    "model.add(Activation('relu'))\n",
    "model.add(Dropout(0.5))\n",
    "\n",
    "model.add(Dense(23))\n",
    "model.add(Activation('softmax'))\n",
    "\n",
    "## Training with 5000 iterations and 0.1 holdout resulted in 66.3 % accuracy!"
   ]
  },
  {
   "cell_type": "code",
   "execution_count": null,
   "metadata": {
    "collapsed": true
   },
   "outputs": [],
   "source": [
    "model.compile(loss='categorical_crossentropy', optimizer='adam')"
   ]
  },
  {
   "cell_type": "code",
   "execution_count": null,
   "metadata": {
    "collapsed": true
   },
   "outputs": [],
   "source": [
    "model = Sequential()\n",
    "model.add(Dense(256, input_dim=97))\n",
    "model.add(BatchNormalization(epsilon=1e-06, mode=0, axis=-1, momentum=0.9, weights=None))\n",
    "model.add(Activation('relu'))\n",
    "model.add(Dropout(0.8))\n",
    "\n",
    "model.add(Dense(512))\n",
    "model.add(BatchNormalization(epsilon=1e-06, mode=0, axis=-1, momentum=0.9, weights=None))\n",
    "model.add(Activation('relu'))\n",
    "model.add(Dropout(0.8))\n",
    "\n",
    "model.add(Dense(4096))\n",
    "model.add(BatchNormalization(epsilon=1e-06, mode=0, axis=-1, momentum=0.9, weights=None))\n",
    "model.add(Activation('relu'))\n",
    "model.add(Dropout(0.8))\n",
    "\n",
    "model.add(Dense(23))\n",
    "model.add(Activation('softmax'))\n",
    "\n",
    "## Training with 5000 iterations and 0.1 holdout resulted in 66.3 % accuracy!"
   ]
  },
  {
   "cell_type": "code",
   "execution_count": 12,
   "metadata": {
    "collapsed": true
   },
   "outputs": [],
   "source": [
    "sgd = SGD(lr=0.01, decay=1e-6, momentum=0.9, nesterov=True)\n",
    "model.compile(loss='categorical_crossentropy', optimizer='sgd')"
   ]
  },
  {
   "cell_type": "code",
   "execution_count": null,
   "metadata": {
    "collapsed": false
   },
   "outputs": [],
   "source": [
    "import keras.backend as K\n",
    "session = K.tensorflow_backend._get_session()\n",
    "session.close()\n",
    "\n",
    "import tensorflow as tf\n",
    "\n",
    "gpu_options = tf.GPUOptions(per_process_gpu_memory_fraction=0.333)\n",
    "config=tf.ConfigProto(gpu_options=gpu_options)\n",
    "session = tf.Session(config=config)\n",
    "K.tensorflow_backend._set_session(session)"
   ]
  },
  {
   "cell_type": "code",
   "execution_count": null,
   "metadata": {
    "collapsed": false
   },
   "outputs": [],
   "source": [
    "tf_cb = keras.callbacks.TensorBoard(log_dir='./logs/lower_learning_rate/', histogram_freq=0)\n",
    "\n",
    "# Learning rate lowering\n",
    "def learning_rate(index):\n",
    "    if (index > 2000):\n",
    "        return 0.005\n",
    "    else:\n",
    "        return 0.01\n",
    "l_cb = keras.callbacks.LearningRateScheduler(learning_rate)"
   ]
  },
  {
   "cell_type": "code",
   "execution_count": null,
   "metadata": {
    "collapsed": false,
    "scrolled": true
   },
   "outputs": [],
   "source": [
    "history = model.fit(X_stratified, Y_stratified, nb_epoch=3000,validation_split=0.1, show_accuracy=True, verbose=2, \n",
    "                    callbacks = [tf_cb, l_cb])"
   ]
  },
  {
   "cell_type": "code",
   "execution_count": null,
   "metadata": {
    "collapsed": false
   },
   "outputs": [],
   "source": [
    "import skflow\n",
    "from sklearn import datasets, metrics\n",
    "\n",
    "clf = skflow.TensorFlowDNNClassifier(hidden_units=[64,256,4096], n_classes=23, steps=5000, batch_size=len(X_4))\n",
    "clf.fit(X_4, y_numeric_4, logdir='/tmp/tf_examples/model_without_dropout/')"
   ]
  },
  {
   "cell_type": "code",
   "execution_count": null,
   "metadata": {
    "collapsed": false
   },
   "outputs": [],
   "source": [
    "from sklearn import datasets, metrics\n",
    "score = metrics.accuracy_score(y_test_numeric, model.predict_classes(X_test))\n",
    "print(\"Accuracy: %f\" % score)\n",
    "\n",
    "cm = metrics.confusion_matrix(y_test_numeric, model.predict_classes(X_test))\n",
    "cm_norm = cm_normalized = cm.astype('float') / cm.sum(axis=1)[:, np.newaxis]\n",
    "plot_confusion_matrix(cm_norm)\n",
    "plt.show()"
   ]
  },
  {
   "cell_type": "code",
   "execution_count": null,
   "metadata": {
    "collapsed": false
   },
   "outputs": [],
   "source": [
    "from sklearn import datasets, metrics\n",
    "iris = datasets.load_iris()\n",
    "iris.target.shape"
   ]
  },
  {
   "cell_type": "code",
   "execution_count": null,
   "metadata": {
    "collapsed": false
   },
   "outputs": [],
   "source": [
    "# Creates a graph.\n",
    "import tensorflow as tf\n",
    "with tf.device('/cpu:0'):\n",
    "  a = tf.constant([1.0, 2.0, 3.0, 4.0, 5.0, 6.0], shape=[2, 3], name='a')\n",
    "  b = tf.constant([1.0, 2.0, 3.0, 4.0, 5.0, 6.0], shape=[3, 2], name='b')\n",
    "c = tf.matmul(a, b)\n",
    "# Creates a session with log_device_placement set to True.\n",
    "sess = tf.Session(config=tf.ConfigProto(log_device_placement=True))"
   ]
  },
  {
   "cell_type": "code",
   "execution_count": null,
   "metadata": {
    "collapsed": false
   },
   "outputs": [],
   "source": [
    "clf = skflow.TensorFlowDNNClassifier(hidden_units=[64,256,8096], n_classes=23, steps=5000, batch_size=len(X_4), \n",
    "                                     learning_rate=0.05, early_stopping_rounds=1000)\n",
    "clf.fit(X_4, y_numeric_4, logdir='/tmp/tf_examples/model_with_dropout_and_early_stopping/')"
   ]
  },
  {
   "cell_type": "code",
   "execution_count": null,
   "metadata": {
    "collapsed": false
   },
   "outputs": [],
   "source": [
    "score = metrics.accuracy_score(y_numeric_eval, clf.predict(X_eval))\n",
    "print(\"Accuracy: %f\" % score)"
   ]
  },
  {
   "cell_type": "code",
   "execution_count": null,
   "metadata": {
    "collapsed": true
   },
   "outputs": [],
   "source": [
    "clf.save('dropout_DNN_model')"
   ]
  },
  {
   "cell_type": "code",
   "execution_count": 14,
   "metadata": {
    "collapsed": false
   },
   "outputs": [
    {
     "name": "stderr",
     "output_type": "stream",
     "text": [
      "/home/ddao/.deep/local/lib/python2.7/site-packages/sklearn/lda.py:4: DeprecationWarning: lda.LDA has been moved to discriminant_analysis.LinearDiscriminantAnalysis in 0.17 and will be removed in 0.19\n",
      "  \"in 0.17 and will be removed in 0.19\", DeprecationWarning)\n"
     ]
    }
   ],
   "source": [
    "from sklearn.lda import LDA"
   ]
  },
  {
   "cell_type": "code",
   "execution_count": 15,
   "metadata": {
    "collapsed": false
   },
   "outputs": [],
   "source": [
    "lda = LDA()\n",
    "import matplotlib.pyplot as plt\n",
    "%matplotlib inline\n",
    "plt.rcParams['figure.figsize'] = (10, 10)\n",
    "\n",
    "def plot_confusion_matrix(cm, title='Normalized Confusion matrix', cmap=plt.cm.Blues):\n",
    "    plt.imshow(cm, interpolation='nearest', cmap=cmap)\n",
    "    plt.title(title)\n",
    "    plt.colorbar()\n",
    "    tick_marks = np.arange(len(labels))\n",
    "    plt.xticks(tick_marks, labels, rotation=45)\n",
    "    plt.yticks(tick_marks, labels)\n",
    "    plt.tight_layout()\n",
    "    plt.ylabel('True label')\n",
    "    plt.xlabel('Predicted label')"
   ]
  },
  {
   "cell_type": "code",
   "execution_count": 18,
   "metadata": {
    "collapsed": false
   },
   "outputs": [
    {
     "name": "stdout",
     "output_type": "stream",
     "text": [
      "Accuracy LDA: 0.607407\n"
     ]
    },
    {
     "data": {
      "image/png": "[encoded data removed]",
      "text/plain": [
       "<matplotlib.figure.Figure at 0x7fa16810a190>"
      ]
     },
     "metadata": {},
     "output_type": "display_data"
    }
   ],
   "source": [
    "lda.fit(X_4,y_numeric_4)\n",
    "from sklearn import datasets, metrics\n",
    "score = metrics.accuracy_score(y_test_numeric, lda.predict(X_test))\n",
    "print(\"Accuracy LDA: %f\" % score)\n",
    "\n",
    "cm = metrics.confusion_matrix(y_test_numeric, lda.predict(X_test))\n",
    "cm_norm = cm_normalized = cm.astype('float') / cm.sum(axis=1)[:, np.newaxis]\n",
    "plot_confusion_matrix(cm_norm)\n",
    "plt.show()"
   ]
  },
  {
   "cell_type": "code",
   "execution_count": null,
   "metadata": {
    "collapsed": false
   },
   "outputs": [],
   "source": [
    "lda.fit(X_train,y_numeric)\n",
    "from sklearn import datasets, metrics\n",
    "score = metrics.accuracy_score(y_test_numeric, lda.predict(X_test))\n",
    "print(\"Upsampled Accuracy LDA: %f\" % score)\n",
    "\n",
    "cm = metrics.confusion_matrix(y_test_numeric, lda.predict(X_test))\n",
    "cm_norm = cm_normalized = cm.astype('float') / cm.sum(axis=1)[:, np.newaxis]\n",
    "plot_confusion_matrix(cm_norm)\n",
    "plt.show()"
   ]
  },
  {
   "cell_type": "code",
   "execution_count": null,
   "metadata": {
    "collapsed": false
   },
   "outputs": [],
   "source": [
    "from sklearn.ensemble import RandomForestClassifier\n",
    "rf = RandomForestClassifier(n_estimators=1000)\n",
    "rf.fit(X_train_original,y_train_original_numeric)\n",
    "from sklearn import datasets, metrics\n",
    "score = metrics.accuracy_score(y_test_numeric, rf.predict(X_test))\n",
    "print(\"Accuracy RF: %f\" % score)\n",
    "\n",
    "metrics.confusion_matrix(y_test_numeric, rf.predict(X_test))\n",
    "\n",
    "cm = metrics.confusion_matrix(y_test_numeric, rf.predict(X_test))\n",
    "cm_norm = cm_normalized = cm.astype('float') / cm.sum(axis=1)[:, np.newaxis]\n",
    "plot_confusion_matrix(cm_norm)\n",
    "plt.show()"
   ]
  },
  {
   "cell_type": "code",
   "execution_count": null,
   "metadata": {
    "collapsed": false
   },
   "outputs": [],
   "source": [
    "rf = RandomForestClassifier(n_estimators=1000)\n",
    "rf.fit(X_train,y_numeric)\n",
    "from sklearn import datasets, metrics\n",
    "score = metrics.accuracy_score(y_test_numeric, rf.predict(X_test))\n",
    "print(\"Upsampled Accuracy RF: %f\" % score)\n",
    "\n",
    "metrics.confusion_matrix(y_test_numeric, rf.predict(X_test))\n",
    "\n",
    "cm = metrics.confusion_matrix(y_test_numeric, rf.predict(X_test))\n",
    "cm_norm = cm_normalized = cm.astype('float') / cm.sum(axis=1)[:, np.newaxis]\n",
    "plot_confusion_matrix(cm_norm)\n",
    "plt.show()"
   ]
  },
  {
   "cell_type": "code",
   "execution_count": null,
   "metadata": {
    "collapsed": false
   },
   "outputs": [],
   "source": [
    "# Real data\n",
    "# Load the full data\n",
    "df_full = pd.read_csv('../subpop_data/B6_robust_linear_test.txt', sep='\\t', header=None)"
   ]
  },
  {
   "cell_type": "code",
   "execution_count": null,
   "metadata": {
    "collapsed": false
   },
   "outputs": [],
   "source": [
    "from sklearn.ensemble import RandomForestClassifier\n",
    "rf = RandomForestClassifier(n_estimators=1000)\n",
    "rf.fit(X_train,y_numeric)\n",
    "# Get all columns of the training data\n",
    "#training_values = training_df.columns.values"
   ]
  },
  {
   "cell_type": "code",
   "execution_count": null,
   "metadata": {
    "collapsed": false
   },
   "outputs": [],
   "source": [
    "# Get the column labels \n",
    "training_values = df.columns.values\n",
    "df_full_trimmed = df_full[training_values]"
   ]
  },
  {
   "cell_type": "code",
   "execution_count": null,
   "metadata": {
    "collapsed": false
   },
   "outputs": [],
   "source": [
    "# Normalize\n",
    "df_full_norm = (df_full_trimmed - df_full_trimmed.mean()) / (df_full_trimmed.max() - df_full_trimmed.min())\n",
    "df_full_norm.values.shape"
   ]
  },
  {
   "cell_type": "code",
   "execution_count": null,
   "metadata": {
    "collapsed": false,
    "scrolled": true
   },
   "outputs": [],
   "source": [
    "df_full.describe()\n",
    "df_full = df_full.drop(0,1)\n",
    "df_full = df_full.drop(1,1)"
   ]
  },
  {
   "cell_type": "code",
   "execution_count": null,
   "metadata": {
    "collapsed": true
   },
   "outputs": [],
   "source": [
    "# Too large!\n",
    "# rf.predict(df_full_norm.values)"
   ]
  },
  {
   "cell_type": "code",
   "execution_count": null,
   "metadata": {
    "collapsed": false
   },
   "outputs": [],
   "source": [
    "matrix = df_full.values"
   ]
  },
  {
   "cell_type": "code",
   "execution_count": null,
   "metadata": {
    "collapsed": false
   },
   "outputs": [],
   "source": [
    "matrix.shape"
   ]
  },
  {
   "cell_type": "code",
   "execution_count": null,
   "metadata": {
    "collapsed": false
   },
   "outputs": [],
   "source": [
    "matrix[0:,:].shape "
   ]
  },
  {
   "cell_type": "code",
   "execution_count": null,
   "metadata": {
    "collapsed": false
   },
   "outputs": [],
   "source": [
    "df_full"
   ]
  },
  {
   "cell_type": "code",
   "execution_count": null,
   "metadata": {
    "collapsed": false
   },
   "outputs": [],
   "source": [
    "indices = [5000 * i for i in range(435)]"
   ]
  },
  {
   "cell_type": "code",
   "execution_count": null,
   "metadata": {
    "collapsed": false
   },
   "outputs": [],
   "source": [
    "result = np.array([])\n",
    "for i in range(len(indices) - 1):\n",
    "    predictions = model.predict_classes(matrix[indices[i]:indices[i+1],:])\n",
    "    result = np.append(result, predictions)"
   ]
  },
  {
   "cell_type": "code",
   "execution_count": null,
   "metadata": {
    "collapsed": false
   },
   "outputs": [],
   "source": [
    "result.shape"
   ]
  },
  {
   "cell_type": "code",
   "execution_count": null,
   "metadata": {
    "collapsed": true
   },
   "outputs": [],
   "source": [
    "np.save('robust_linear_result_28_2.npy',result)"
   ]
  },
  {
   "cell_type": "code",
   "execution_count": null,
   "metadata": {
    "collapsed": false
   },
   "outputs": [],
   "source": [
    "import numpy as np"
   ]
  },
  {
   "cell_type": "code",
   "execution_count": null,
   "metadata": {
    "collapsed": false
   },
   "outputs": [],
   "source": [
    "result = np.load('rf_result.npy')"
   ]
  },
  {
   "cell_type": "code",
   "execution_count": null,
   "metadata": {
    "collapsed": false
   },
   "outputs": [],
   "source": [
    "result"
   ]
  },
  {
   "cell_type": "code",
   "execution_count": null,
   "metadata": {
    "collapsed": true
   },
   "outputs": [],
   "source": [
    "# Make it categorical to sum up the profiles\n",
    "from keras.utils import np_utils\n",
    "Y = np_utils.to_categorical(result, 23)"
   ]
  },
  {
   "cell_type": "code",
   "execution_count": null,
   "metadata": {
    "collapsed": false
   },
   "outputs": [],
   "source": [
    "import pandas as pd\n",
    "images = pd.read_csv('../images.csv')"
   ]
  },
  {
   "cell_type": "code",
   "execution_count": null,
   "metadata": {
    "collapsed": false
   },
   "outputs": [],
   "source": [
    "cc = images[['Image_Metadata_Compound','Image_Metadata_Concentration']]\n",
    "cc[cc['Image_Metadata_Compound'] == 'AZ-A'][cc['Image_Metadata_Concentration'] == 30.0]"
   ]
  },
  {
   "cell_type": "code",
   "execution_count": null,
   "metadata": {
    "collapsed": false
   },
   "outputs": [],
   "source": [
    "indexed_images = images.set_index(['TableNumber','ImageNumber'])"
   ]
  },
  {
   "cell_type": "code",
   "execution_count": null,
   "metadata": {
    "collapsed": false
   },
   "outputs": [],
   "source": [
    "indexed_images"
   ]
  },
  {
   "cell_type": "code",
   "execution_count": null,
   "metadata": {
    "collapsed": false
   },
   "outputs": [],
   "source": [
    "joined_df = df_full.join(indexed_images, on=['TableNumber','ImageNumber'])"
   ]
  },
  {
   "cell_type": "code",
   "execution_count": null,
   "metadata": {
    "collapsed": false
   },
   "outputs": [],
   "source": [
    "df_full"
   ]
  },
  {
   "cell_type": "code",
   "execution_count": null,
   "metadata": {
    "collapsed": false
   },
   "outputs": [],
   "source": [
    "np.unique(df_full['ImageNumber'])"
   ]
  },
  {
   "cell_type": "code",
   "execution_count": null,
   "metadata": {
    "collapsed": false
   },
   "outputs": [],
   "source": [
    "images.shape"
   ]
  },
  {
   "cell_type": "code",
   "execution_count": null,
   "metadata": {
    "collapsed": true
   },
   "outputs": [],
   "source": [
    "model.save_weights('24-2-11:39.h5')"
   ]
  },
  {
   "cell_type": "code",
   "execution_count": null,
   "metadata": {
    "collapsed": false
   },
   "outputs": [],
   "source": [
    "np.array(y_train_original_numeric).shape"
   ]
  },
  {
   "cell_type": "code",
   "execution_count": null,
   "metadata": {
    "collapsed": false
   },
   "outputs": [],
   "source": [
    "np.array(y_numeric).shape"
   ]
  },
  {
   "cell_type": "code",
   "execution_count": null,
   "metadata": {
    "collapsed": false
   },
   "outputs": [],
   "source": [
    "arr = np.array(y_test_numeric)\n",
    "\n",
    "assert isinstance(arr, np.ndarray)"
   ]
  },
  {
   "cell_type": "code",
   "execution_count": null,
   "metadata": {
    "collapsed": false
   },
   "outputs": [],
   "source": []
  },
  {
   "cell_type": "code",
   "execution_count": null,
   "metadata": {
    "collapsed": true
   },
   "outputs": [],
   "source": []
  }
 ],
 "metadata": {
  "kernelspec": {
   "display_name": "Python 2",
   "language": "python",
   "name": "python2"
  },
  "language_info": {
   "codemirror_mode": {
    "name": "ipython",
    "version": 2
   },
   "file_extension": ".py",
   "mimetype": "text/x-python",
   "name": "python",
   "nbconvert_exporter": "python",
   "pygments_lexer": "ipython2",
   "version": "2.7.10"
  }
 },
 "nbformat": 4,
 "nbformat_minor": 0
}
