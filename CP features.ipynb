{
 "cells": [
  {
   "cell_type": "code",
   "execution_count": null,
   "metadata": {
    "collapsed": false
   },
   "outputs": [],
   "source": [
    "import pandas as pd\n",
    "df = pd.read_csv('Anne_DNA_66.csv')\n",
    "df = df[df['Class'] != 'interphase']"
   ]
  },
  {
   "cell_type": "code",
   "execution_count": null,
   "metadata": {
    "collapsed": false
   },
   "outputs": [],
   "source": [
    "df_x = pd.read_csv('Anne_DNA_66.csv')\n",
    "trimmed_interphase = df_x[df_x['Class'] == 'interphase'].head(150)\n",
    "df = pd.concat([df, trimmed_interphase],axis=0) # Add interphase but balanced"
   ]
  },
  {
   "cell_type": "code",
   "execution_count": null,
   "metadata": {
    "collapsed": false
   },
   "outputs": [],
   "source": [
    "y = df['Class'].values"
   ]
  },
  {
   "cell_type": "code",
   "execution_count": null,
   "metadata": {
    "collapsed": false
   },
   "outputs": [],
   "source": [
    "df = df.drop('TableNumber', 1)\n",
    "df = df.drop('ImageNumber', 1)\n",
    "df = df.drop('ObjectNumber', 1)\n",
    "df = df.drop('Class', 1)\n",
    "df = df.drop('Nuclei_AreaShape_EulerNumber', 1)"
   ]
  },
  {
   "cell_type": "code",
   "execution_count": null,
   "metadata": {
    "collapsed": false
   },
   "outputs": [],
   "source": [
    "df_norm = (df - df.mean()) / (df.max() - df.min())\n",
    "df_norm.values.shape"
   ]
  },
  {
   "cell_type": "code",
   "execution_count": null,
   "metadata": {
    "collapsed": false
   },
   "outputs": [],
   "source": [
    "y"
   ]
  },
  {
   "cell_type": "code",
   "execution_count": null,
   "metadata": {
    "collapsed": false
   },
   "outputs": [],
   "source": [
    "# Convert y into Y\n",
    "nb_classes = 23\n",
    "import numpy as np\n",
    "from keras.utils import np_utils, generic_utils\n",
    "\n",
    "# Convert labels to numeric\n",
    "y_unique = np.unique(y)\n",
    "dic = {}\n",
    "\n",
    "for i, label in enumerate(y_unique):\n",
    "    dic[label] = i\n",
    "print dic\n",
    "\n",
    "y_numeric = []\n",
    "for el in y:\n",
    "    y_numeric += [dic[el]]\n",
    "    \n",
    "y_numeric # now a 2000 label vector\n",
    "Y = np_utils.to_categorical(y_numeric, nb_classes)\n",
    "\n",
    "print Y.shape\n",
    "\n",
    "Y_train = Y"
   ]
  },
  {
   "cell_type": "code",
   "execution_count": null,
   "metadata": {
    "collapsed": true
   },
   "outputs": [],
   "source": [
    "X_train = df_norm.values"
   ]
  },
  {
   "cell_type": "code",
   "execution_count": null,
   "metadata": {
    "collapsed": false
   },
   "outputs": [],
   "source": [
    "from sklearn.cross_validation import StratifiedKFold\n",
    "\n",
    "#print y_numeric\n",
    "skl = StratifiedKFold(y_numeric, n_folds=5)\n",
    "\n",
    "y_numeric = np.array(y_numeric)\n",
    "\n",
    "for train,test in skl:\n",
    "    print len(train), len(test)\n",
    "    \n",
    "X_4 = X_train[train]\n",
    "Y_4 = Y[train]\n",
    "y_numeric_4 = y_numeric[train]\n",
    "\n",
    "X_eval = X_train[test]\n",
    "Y_eval = Y[test]\n",
    "y_numeric_eval = y_numeric[test]\n",
    "\n",
    "X_stratified = np.append(X_4,X_eval,axis=0)\n",
    "Y_stratified = np.append(Y_4,Y_eval,axis=0)\n",
    "\n",
    "X_stratified.shape\n",
    "Y_stratified.shape"
   ]
  },
  {
   "cell_type": "code",
   "execution_count": null,
   "metadata": {
    "collapsed": false
   },
   "outputs": [],
   "source": [
    "## Convolutional Neural Network with 2 convolutions\n",
    "import keras\n",
    "from keras.models import Sequential\n",
    "from keras.datasets import mnist\n",
    "from keras.preprocessing.image import ImageDataGenerator\n",
    "from keras.models import Sequential\n",
    "from keras.layers.core import Dense, Dropout, Activation, Flatten\n",
    "from keras.layers.convolutional import Convolution2D, MaxPooling2D, ZeroPadding2D\n",
    "from keras.optimizers import SGD, Adadelta, Adagrad, Adam\n",
    "from keras.layers.normalization import BatchNormalization\n",
    "\n",
    "nb_epoch = 12"
   ]
  },
  {
   "cell_type": "code",
   "execution_count": null,
   "metadata": {
    "collapsed": false
   },
   "outputs": [],
   "source": [
    "model = Sequential()\n",
    "model.add(Dense(64, input_dim=97))\n",
    "model.add(Activation('relu'))\n",
    "model.add(Dropout(0.5))\n",
    "\n",
    "model.add(Dense(256))\n",
    "model.add(Activation('relu'))\n",
    "model.add(Dropout(0.5))\n",
    "\n",
    "model.add(Dense(4096))\n",
    "model.add(Activation('relu'))\n",
    "model.add(Dropout(0.5))\n",
    "\n",
    "model.add(Dense(23))\n",
    "model.add(Activation('softmax'))"
   ]
  },
  {
   "cell_type": "code",
   "execution_count": null,
   "metadata": {
    "collapsed": true
   },
   "outputs": [],
   "source": [
    "sgd = SGD(lr=0.01, decay=1e-6, momentum=0.9, nesterov=True)\n",
    "model.compile(loss='categorical_crossentropy', optimizer='sgd')"
   ]
  },
  {
   "cell_type": "code",
   "execution_count": null,
   "metadata": {
    "collapsed": false
   },
   "outputs": [],
   "source": [
    "tf_cb = keras.callbacks.TensorBoard(log_dir='./logs/lower_learning_rate', histogram_freq=0)\n",
    "\n",
    "# Learning rate lowering\n",
    "def learning_rate(index):\n",
    "    if (index > 2500):\n",
    "        return 0.005\n",
    "    else:\n",
    "        return 0.01\n",
    "l_cb = keras.callbacks.LearningRateScheduler(learning_rate)"
   ]
  },
  {
   "cell_type": "code",
   "execution_count": null,
   "metadata": {
    "collapsed": false
   },
   "outputs": [],
   "source": [
    "history = model.fit(X_stratified, Y_stratified, nb_epoch=2961,validation_split=0.2, show_accuracy=True, verbose=2, \n",
    "                    callbacks = [tf_cb, l_cb])"
   ]
  },
  {
   "cell_type": "code",
   "execution_count": null,
   "metadata": {
    "collapsed": false
   },
   "outputs": [],
   "source": [
    "import skflow\n",
    "from sklearn import datasets, metrics\n",
    "\n",
    "clf = skflow.TensorFlowDNNClassifier(hidden_units=[64,256,4096], n_classes=23, steps=5000, batch_size=len(X_4))\n",
    "clf.fit(X_4, y_numeric_4, logdir='/tmp/tf_examples/model_without_dropout/')"
   ]
  },
  {
   "cell_type": "code",
   "execution_count": null,
   "metadata": {
    "collapsed": false
   },
   "outputs": [],
   "source": [
    "score = metrics.accuracy_score(y_numeric_eval, clf.predict(X_eval))\n",
    "print(\"Accuracy: %f\" % score)"
   ]
  },
  {
   "cell_type": "code",
   "execution_count": null,
   "metadata": {
    "collapsed": false
   },
   "outputs": [],
   "source": [
    "from sklearn import datasets, metrics\n",
    "iris = datasets.load_iris()\n",
    "iris.target.shape"
   ]
  },
  {
   "cell_type": "code",
   "execution_count": null,
   "metadata": {
    "collapsed": false
   },
   "outputs": [],
   "source": [
    "# Creates a graph.\n",
    "import tensorflow as tf\n",
    "with tf.device('/cpu:0'):\n",
    "  a = tf.constant([1.0, 2.0, 3.0, 4.0, 5.0, 6.0], shape=[2, 3], name='a')\n",
    "  b = tf.constant([1.0, 2.0, 3.0, 4.0, 5.0, 6.0], shape=[3, 2], name='b')\n",
    "c = tf.matmul(a, b)\n",
    "# Creates a session with log_device_placement set to True.\n",
    "sess = tf.Session(config=tf.ConfigProto(log_device_placement=True))"
   ]
  },
  {
   "cell_type": "code",
   "execution_count": null,
   "metadata": {
    "collapsed": false
   },
   "outputs": [],
   "source": [
    "clf = skflow.TensorFlowDNNClassifier(hidden_units=[64,256,8096], n_classes=23, steps=5000, batch_size=len(X_4), \n",
    "                                     learning_rate=0.05, early_stopping_rounds=1000)\n",
    "clf.fit(X_4, y_numeric_4, logdir='/tmp/tf_examples/model_with_dropout_and_early_stopping/')"
   ]
  },
  {
   "cell_type": "code",
   "execution_count": null,
   "metadata": {
    "collapsed": false
   },
   "outputs": [],
   "source": [
    "score = metrics.accuracy_score(y_numeric_eval, clf.predict(X_eval))\n",
    "print(\"Accuracy: %f\" % score)"
   ]
  },
  {
   "cell_type": "code",
   "execution_count": null,
   "metadata": {
    "collapsed": true
   },
   "outputs": [],
   "source": [
    "clf.save('dropout_DNN_model')"
   ]
  },
  {
   "cell_type": "code",
   "execution_count": null,
   "metadata": {
    "collapsed": false
   },
   "outputs": [],
   "source": [
    "from sklearn.lda import LDA"
   ]
  },
  {
   "cell_type": "code",
   "execution_count": null,
   "metadata": {
    "collapsed": true
   },
   "outputs": [],
   "source": [
    "lda = LDA()"
   ]
  },
  {
   "cell_type": "code",
   "execution_count": null,
   "metadata": {
    "collapsed": false
   },
   "outputs": [],
   "source": [
    "lda.fit(X_4,y_numeric_4)"
   ]
  },
  {
   "cell_type": "code",
   "execution_count": null,
   "metadata": {
    "collapsed": false
   },
   "outputs": [],
   "source": [
    "from sklearn import datasets, metrics\n",
    "score = metrics.accuracy_score(y_numeric_eval, lda.predict(X_eval))\n",
    "print(\"Accuracy: %f\" % score)"
   ]
  },
  {
   "cell_type": "code",
   "execution_count": null,
   "metadata": {
    "collapsed": false
   },
   "outputs": [],
   "source": [
    "from sklearn.ensemble import RandomForestClassifier\n",
    "rf = RandomForestClassifier(n_estimators=1000)\n",
    "rf.fit(X_4,y_numeric_4)"
   ]
  },
  {
   "cell_type": "code",
   "execution_count": null,
   "metadata": {
    "collapsed": false
   },
   "outputs": [],
   "source": [
    "from sklearn import datasets, metrics\n",
    "score = metrics.accuracy_score(y_numeric_eval, rf.predict(X_eval))\n",
    "print(\"Accuracy: %f\" % score)"
   ]
  },
  {
   "cell_type": "code",
   "execution_count": 13,
   "metadata": {
    "collapsed": true
   },
   "outputs": [],
   "source": [
    "# Real data\n",
    "# Load the full data\n",
    "df_full = pd.read_csv('../objects.csv')"
   ]
  },
  {
   "cell_type": "code",
   "execution_count": null,
   "metadata": {
    "collapsed": false
   },
   "outputs": [],
   "source": [
    "from sklearn.ensemble import RandomForestClassifier\n",
    "rf = RandomForestClassifier(n_estimators=1000)\n",
    "rf.fit(X_train,y_numeric)\n",
    "# Get all columns of the training data\n",
    "#training_values = training_df.columns.values"
   ]
  },
  {
   "cell_type": "code",
   "execution_count": null,
   "metadata": {
    "collapsed": false
   },
   "outputs": [],
   "source": [
    "# Get the column labels \n",
    "training_values = df.columns.values\n",
    "df_full_trimmed = df_full[training_values]"
   ]
  },
  {
   "cell_type": "code",
   "execution_count": null,
   "metadata": {
    "collapsed": false
   },
   "outputs": [],
   "source": [
    "# Normalize\n",
    "df_full_norm = (df_full_trimmed - df_full_trimmed.mean()) / (df_full_trimmed.max() - df_full_trimmed.min())\n",
    "df_full_norm.values.shape"
   ]
  },
  {
   "cell_type": "code",
   "execution_count": null,
   "metadata": {
    "collapsed": false,
    "scrolled": true
   },
   "outputs": [],
   "source": [
    "df_full_norm.describe()"
   ]
  },
  {
   "cell_type": "code",
   "execution_count": null,
   "metadata": {
    "collapsed": true
   },
   "outputs": [],
   "source": [
    "# Too large!\n",
    "# rf.predict(df_full_norm.values)"
   ]
  },
  {
   "cell_type": "code",
   "execution_count": null,
   "metadata": {
    "collapsed": false
   },
   "outputs": [],
   "source": [
    "matrix = df_full_norm.values"
   ]
  },
  {
   "cell_type": "code",
   "execution_count": null,
   "metadata": {
    "collapsed": false
   },
   "outputs": [],
   "source": [
    "matrix.shape"
   ]
  },
  {
   "cell_type": "code",
   "execution_count": null,
   "metadata": {
    "collapsed": false
   },
   "outputs": [],
   "source": [
    "matrix[0:,:].shape "
   ]
  },
  {
   "cell_type": "code",
   "execution_count": null,
   "metadata": {
    "collapsed": false
   },
   "outputs": [],
   "source": [
    "# T"
   ]
  },
  {
   "cell_type": "code",
   "execution_count": null,
   "metadata": {
    "collapsed": false
   },
   "outputs": [],
   "source": [
    "indices = [5000 * i for i in range(92)]"
   ]
  },
  {
   "cell_type": "code",
   "execution_count": null,
   "metadata": {
    "collapsed": false
   },
   "outputs": [],
   "source": [
    "result = np.array([])\n",
    "for i in range(len(indices) - 1):\n",
    "    predictions = rf.predict(matrix[indices[i]:indices[i+1],:])\n",
    "    result = np.append(result, predictions)"
   ]
  },
  {
   "cell_type": "code",
   "execution_count": null,
   "metadata": {
    "collapsed": false
   },
   "outputs": [],
   "source": [
    "result.shape"
   ]
  },
  {
   "cell_type": "code",
   "execution_count": null,
   "metadata": {
    "collapsed": true
   },
   "outputs": [],
   "source": [
    "np.save('rf_result.npy',result)"
   ]
  },
  {
   "cell_type": "code",
   "execution_count": 1,
   "metadata": {
    "collapsed": false
   },
   "outputs": [],
   "source": [
    "import numpy as np"
   ]
  },
  {
   "cell_type": "code",
   "execution_count": 2,
   "metadata": {
    "collapsed": false
   },
   "outputs": [],
   "source": [
    "result = np.load('rf_result.npy')"
   ]
  },
  {
   "cell_type": "code",
   "execution_count": 4,
   "metadata": {
    "collapsed": false
   },
   "outputs": [
    {
     "data": {
      "text/plain": [
       "(454793,)"
      ]
     },
     "execution_count": 4,
     "metadata": {},
     "output_type": "execute_result"
    }
   ],
   "source": [
    "result"
   ]
  },
  {
   "cell_type": "code",
   "execution_count": 5,
   "metadata": {
    "collapsed": true
   },
   "outputs": [],
   "source": [
    "# Make it categorical to sum up the profiles\n",
    "from keras.utils import np_utils\n",
    "Y = np_utils.to_categorical(result, 23)"
   ]
  },
  {
   "cell_type": "code",
   "execution_count": 10,
   "metadata": {
    "collapsed": false
   },
   "outputs": [],
   "source": [
    "import pandas as pd\n",
    "images = pd.read_csv('../images.csv')"
   ]
  },
  {
   "cell_type": "code",
   "execution_count": 30,
   "metadata": {
    "collapsed": false
   },
   "outputs": [
    {
     "name": "stderr",
     "output_type": "stream",
     "text": [
      "/home/carmack/.local/lib/python2.7/site-packages/pandas/core/frame.py:1997: UserWarning: Boolean Series key will be reindexed to match DataFrame index.\n",
      "  \"DataFrame index.\", UserWarning)\n"
     ]
    },
    {
     "data": {
      "text/html": [
       "<div>\n",
       "<table border=\"1\" class=\"dataframe\">\n",
       "  <thead>\n",
       "    <tr style=\"text-align: right;\">\n",
       "      <th></th>\n",
       "      <th>Image_Metadata_Compound</th>\n",
       "      <th>Image_Metadata_Concentration</th>\n",
       "    </tr>\n",
       "  </thead>\n",
       "  <tbody>\n",
       "    <tr>\n",
       "      <th>216</th>\n",
       "      <td>AZ-A</td>\n",
       "      <td>30</td>\n",
       "    </tr>\n",
       "    <tr>\n",
       "      <th>217</th>\n",
       "      <td>AZ-A</td>\n",
       "      <td>30</td>\n",
       "    </tr>\n",
       "    <tr>\n",
       "      <th>218</th>\n",
       "      <td>AZ-A</td>\n",
       "      <td>30</td>\n",
       "    </tr>\n",
       "    <tr>\n",
       "      <th>219</th>\n",
       "      <td>AZ-A</td>\n",
       "      <td>30</td>\n",
       "    </tr>\n",
       "    <tr>\n",
       "      <th>292</th>\n",
       "      <td>AZ-A</td>\n",
       "      <td>30</td>\n",
       "    </tr>\n",
       "    <tr>\n",
       "      <th>293</th>\n",
       "      <td>AZ-A</td>\n",
       "      <td>30</td>\n",
       "    </tr>\n",
       "    <tr>\n",
       "      <th>294</th>\n",
       "      <td>AZ-A</td>\n",
       "      <td>30</td>\n",
       "    </tr>\n",
       "    <tr>\n",
       "      <th>295</th>\n",
       "      <td>AZ-A</td>\n",
       "      <td>30</td>\n",
       "    </tr>\n",
       "    <tr>\n",
       "      <th>368</th>\n",
       "      <td>AZ-A</td>\n",
       "      <td>30</td>\n",
       "    </tr>\n",
       "    <tr>\n",
       "      <th>369</th>\n",
       "      <td>AZ-A</td>\n",
       "      <td>30</td>\n",
       "    </tr>\n",
       "    <tr>\n",
       "      <th>370</th>\n",
       "      <td>AZ-A</td>\n",
       "      <td>30</td>\n",
       "    </tr>\n",
       "    <tr>\n",
       "      <th>371</th>\n",
       "      <td>AZ-A</td>\n",
       "      <td>30</td>\n",
       "    </tr>\n",
       "  </tbody>\n",
       "</table>\n",
       "</div>"
      ],
      "text/plain": [
       "    Image_Metadata_Compound  Image_Metadata_Concentration\n",
       "216                    AZ-A                            30\n",
       "217                    AZ-A                            30\n",
       "218                    AZ-A                            30\n",
       "219                    AZ-A                            30\n",
       "292                    AZ-A                            30\n",
       "293                    AZ-A                            30\n",
       "294                    AZ-A                            30\n",
       "295                    AZ-A                            30\n",
       "368                    AZ-A                            30\n",
       "369                    AZ-A                            30\n",
       "370                    AZ-A                            30\n",
       "371                    AZ-A                            30"
      ]
     },
     "execution_count": 30,
     "metadata": {},
     "output_type": "execute_result"
    }
   ],
   "source": [
    "cc = images[['Image_Metadata_Compound','Image_Metadata_Concentration']]\n",
    "cc[cc['Image_Metadata_Compound'] == 'AZ-A'][cc['Image_Metadata_Concentration'] == 30.0]"
   ]
  },
  {
   "cell_type": "code",
   "execution_count": 38,
   "metadata": {
    "collapsed": false
   },
   "outputs": [],
   "source": [
    "indexed_images = images.set_index(['TableNumber','ImageNumber'])"
   ]
  },
  {
   "cell_type": "code",
   "execution_count": 39,
   "metadata": {
    "collapsed": false
   },
   "outputs": [
    {
     "data": {
      "text/html": [
       "<div>\n",
       "<table border=\"1\" class=\"dataframe\">\n",
       "  <thead>\n",
       "    <tr style=\"text-align: right;\">\n",
       "      <th></th>\n",
       "      <th></th>\n",
       "      <th>Cell_line</th>\n",
       "      <th>Replicate</th>\n",
       "      <th>Image_Metadata_Compound</th>\n",
       "      <th>Image_Metadata_Concentration</th>\n",
       "    </tr>\n",
       "    <tr>\n",
       "      <th>TableNumber</th>\n",
       "      <th>ImageNumber</th>\n",
       "      <th></th>\n",
       "      <th></th>\n",
       "      <th></th>\n",
       "      <th></th>\n",
       "    </tr>\n",
       "  </thead>\n",
       "  <tbody>\n",
       "    <tr>\n",
       "      <th rowspan=\"30\" valign=\"top\">0</th>\n",
       "      <th>1</th>\n",
       "      <td>MCF-7wt</td>\n",
       "      <td>1</td>\n",
       "      <td>DMSO</td>\n",
       "      <td>0.00</td>\n",
       "    </tr>\n",
       "    <tr>\n",
       "      <th>2</th>\n",
       "      <td>MCF-7wt</td>\n",
       "      <td>1</td>\n",
       "      <td>DMSO</td>\n",
       "      <td>0.00</td>\n",
       "    </tr>\n",
       "    <tr>\n",
       "      <th>3</th>\n",
       "      <td>MCF-7wt</td>\n",
       "      <td>1</td>\n",
       "      <td>DMSO</td>\n",
       "      <td>0.00</td>\n",
       "    </tr>\n",
       "    <tr>\n",
       "      <th>4</th>\n",
       "      <td>MCF-7wt</td>\n",
       "      <td>1</td>\n",
       "      <td>DMSO</td>\n",
       "      <td>0.00</td>\n",
       "    </tr>\n",
       "    <tr>\n",
       "      <th>41</th>\n",
       "      <td>MCF-7wt</td>\n",
       "      <td>1</td>\n",
       "      <td>DMSO</td>\n",
       "      <td>0.00</td>\n",
       "    </tr>\n",
       "    <tr>\n",
       "      <th>42</th>\n",
       "      <td>MCF-7wt</td>\n",
       "      <td>1</td>\n",
       "      <td>DMSO</td>\n",
       "      <td>0.00</td>\n",
       "    </tr>\n",
       "    <tr>\n",
       "      <th>43</th>\n",
       "      <td>MCF-7wt</td>\n",
       "      <td>1</td>\n",
       "      <td>DMSO</td>\n",
       "      <td>0.00</td>\n",
       "    </tr>\n",
       "    <tr>\n",
       "      <th>44</th>\n",
       "      <td>MCF-7wt</td>\n",
       "      <td>1</td>\n",
       "      <td>DMSO</td>\n",
       "      <td>0.00</td>\n",
       "    </tr>\n",
       "    <tr>\n",
       "      <th>53</th>\n",
       "      <td>MCF-7wt</td>\n",
       "      <td>1</td>\n",
       "      <td>AZ138</td>\n",
       "      <td>3.00</td>\n",
       "    </tr>\n",
       "    <tr>\n",
       "      <th>54</th>\n",
       "      <td>MCF-7wt</td>\n",
       "      <td>1</td>\n",
       "      <td>AZ138</td>\n",
       "      <td>3.00</td>\n",
       "    </tr>\n",
       "    <tr>\n",
       "      <th>55</th>\n",
       "      <td>MCF-7wt</td>\n",
       "      <td>1</td>\n",
       "      <td>AZ138</td>\n",
       "      <td>3.00</td>\n",
       "    </tr>\n",
       "    <tr>\n",
       "      <th>56</th>\n",
       "      <td>MCF-7wt</td>\n",
       "      <td>1</td>\n",
       "      <td>AZ138</td>\n",
       "      <td>3.00</td>\n",
       "    </tr>\n",
       "    <tr>\n",
       "      <th>57</th>\n",
       "      <td>MCF-7wt</td>\n",
       "      <td>1</td>\n",
       "      <td>AZ138</td>\n",
       "      <td>1.00</td>\n",
       "    </tr>\n",
       "    <tr>\n",
       "      <th>58</th>\n",
       "      <td>MCF-7wt</td>\n",
       "      <td>1</td>\n",
       "      <td>AZ138</td>\n",
       "      <td>1.00</td>\n",
       "    </tr>\n",
       "    <tr>\n",
       "      <th>59</th>\n",
       "      <td>MCF-7wt</td>\n",
       "      <td>1</td>\n",
       "      <td>AZ138</td>\n",
       "      <td>1.00</td>\n",
       "    </tr>\n",
       "    <tr>\n",
       "      <th>60</th>\n",
       "      <td>MCF-7wt</td>\n",
       "      <td>1</td>\n",
       "      <td>AZ138</td>\n",
       "      <td>1.00</td>\n",
       "    </tr>\n",
       "    <tr>\n",
       "      <th>61</th>\n",
       "      <td>MCF-7wt</td>\n",
       "      <td>1</td>\n",
       "      <td>AZ138</td>\n",
       "      <td>0.30</td>\n",
       "    </tr>\n",
       "    <tr>\n",
       "      <th>62</th>\n",
       "      <td>MCF-7wt</td>\n",
       "      <td>1</td>\n",
       "      <td>AZ138</td>\n",
       "      <td>0.30</td>\n",
       "    </tr>\n",
       "    <tr>\n",
       "      <th>63</th>\n",
       "      <td>MCF-7wt</td>\n",
       "      <td>1</td>\n",
       "      <td>AZ138</td>\n",
       "      <td>0.30</td>\n",
       "    </tr>\n",
       "    <tr>\n",
       "      <th>64</th>\n",
       "      <td>MCF-7wt</td>\n",
       "      <td>1</td>\n",
       "      <td>AZ138</td>\n",
       "      <td>0.30</td>\n",
       "    </tr>\n",
       "    <tr>\n",
       "      <th>65</th>\n",
       "      <td>MCF-7wt</td>\n",
       "      <td>1</td>\n",
       "      <td>AZ138</td>\n",
       "      <td>0.10</td>\n",
       "    </tr>\n",
       "    <tr>\n",
       "      <th>66</th>\n",
       "      <td>MCF-7wt</td>\n",
       "      <td>1</td>\n",
       "      <td>AZ138</td>\n",
       "      <td>0.10</td>\n",
       "    </tr>\n",
       "    <tr>\n",
       "      <th>67</th>\n",
       "      <td>MCF-7wt</td>\n",
       "      <td>1</td>\n",
       "      <td>AZ138</td>\n",
       "      <td>0.10</td>\n",
       "    </tr>\n",
       "    <tr>\n",
       "      <th>68</th>\n",
       "      <td>MCF-7wt</td>\n",
       "      <td>1</td>\n",
       "      <td>AZ138</td>\n",
       "      <td>0.10</td>\n",
       "    </tr>\n",
       "    <tr>\n",
       "      <th>69</th>\n",
       "      <td>MCF-7wt</td>\n",
       "      <td>1</td>\n",
       "      <td>AZ138</td>\n",
       "      <td>0.03</td>\n",
       "    </tr>\n",
       "    <tr>\n",
       "      <th>70</th>\n",
       "      <td>MCF-7wt</td>\n",
       "      <td>1</td>\n",
       "      <td>AZ138</td>\n",
       "      <td>0.03</td>\n",
       "    </tr>\n",
       "    <tr>\n",
       "      <th>71</th>\n",
       "      <td>MCF-7wt</td>\n",
       "      <td>1</td>\n",
       "      <td>AZ138</td>\n",
       "      <td>0.03</td>\n",
       "    </tr>\n",
       "    <tr>\n",
       "      <th>72</th>\n",
       "      <td>MCF-7wt</td>\n",
       "      <td>1</td>\n",
       "      <td>AZ138</td>\n",
       "      <td>0.03</td>\n",
       "    </tr>\n",
       "    <tr>\n",
       "      <th>81</th>\n",
       "      <td>MCF-7wt</td>\n",
       "      <td>1</td>\n",
       "      <td>DMSO</td>\n",
       "      <td>0.00</td>\n",
       "    </tr>\n",
       "    <tr>\n",
       "      <th>82</th>\n",
       "      <td>MCF-7wt</td>\n",
       "      <td>1</td>\n",
       "      <td>DMSO</td>\n",
       "      <td>0.00</td>\n",
       "    </tr>\n",
       "    <tr>\n",
       "      <th>...</th>\n",
       "      <th>...</th>\n",
       "      <td>...</td>\n",
       "      <td>...</td>\n",
       "      <td>...</td>\n",
       "      <td>...</td>\n",
       "    </tr>\n",
       "    <tr>\n",
       "      <th rowspan=\"30\" valign=\"top\">9</th>\n",
       "      <th>3319</th>\n",
       "      <td>MCF-7wt</td>\n",
       "      <td>2</td>\n",
       "      <td>DMSO</td>\n",
       "      <td>0.00</td>\n",
       "    </tr>\n",
       "    <tr>\n",
       "      <th>3320</th>\n",
       "      <td>MCF-7wt</td>\n",
       "      <td>2</td>\n",
       "      <td>DMSO</td>\n",
       "      <td>0.00</td>\n",
       "    </tr>\n",
       "    <tr>\n",
       "      <th>3357</th>\n",
       "      <td>MCF-7wt</td>\n",
       "      <td>2</td>\n",
       "      <td>DMSO</td>\n",
       "      <td>0.00</td>\n",
       "    </tr>\n",
       "    <tr>\n",
       "      <th>3358</th>\n",
       "      <td>MCF-7wt</td>\n",
       "      <td>2</td>\n",
       "      <td>DMSO</td>\n",
       "      <td>0.00</td>\n",
       "    </tr>\n",
       "    <tr>\n",
       "      <th>3359</th>\n",
       "      <td>MCF-7wt</td>\n",
       "      <td>2</td>\n",
       "      <td>DMSO</td>\n",
       "      <td>0.00</td>\n",
       "    </tr>\n",
       "    <tr>\n",
       "      <th>3360</th>\n",
       "      <td>MCF-7wt</td>\n",
       "      <td>2</td>\n",
       "      <td>DMSO</td>\n",
       "      <td>0.00</td>\n",
       "    </tr>\n",
       "    <tr>\n",
       "      <th>3361</th>\n",
       "      <td>MCF-7wt</td>\n",
       "      <td>3</td>\n",
       "      <td>DMSO</td>\n",
       "      <td>0.00</td>\n",
       "    </tr>\n",
       "    <tr>\n",
       "      <th>3362</th>\n",
       "      <td>MCF-7wt</td>\n",
       "      <td>3</td>\n",
       "      <td>DMSO</td>\n",
       "      <td>0.00</td>\n",
       "    </tr>\n",
       "    <tr>\n",
       "      <th>3363</th>\n",
       "      <td>MCF-7wt</td>\n",
       "      <td>3</td>\n",
       "      <td>DMSO</td>\n",
       "      <td>0.00</td>\n",
       "    </tr>\n",
       "    <tr>\n",
       "      <th>3364</th>\n",
       "      <td>MCF-7wt</td>\n",
       "      <td>3</td>\n",
       "      <td>DMSO</td>\n",
       "      <td>0.00</td>\n",
       "    </tr>\n",
       "    <tr>\n",
       "      <th>3401</th>\n",
       "      <td>MCF-7wt</td>\n",
       "      <td>3</td>\n",
       "      <td>DMSO</td>\n",
       "      <td>0.00</td>\n",
       "    </tr>\n",
       "    <tr>\n",
       "      <th>3402</th>\n",
       "      <td>MCF-7wt</td>\n",
       "      <td>3</td>\n",
       "      <td>DMSO</td>\n",
       "      <td>0.00</td>\n",
       "    </tr>\n",
       "    <tr>\n",
       "      <th>3403</th>\n",
       "      <td>MCF-7wt</td>\n",
       "      <td>3</td>\n",
       "      <td>DMSO</td>\n",
       "      <td>0.00</td>\n",
       "    </tr>\n",
       "    <tr>\n",
       "      <th>3404</th>\n",
       "      <td>MCF-7wt</td>\n",
       "      <td>3</td>\n",
       "      <td>DMSO</td>\n",
       "      <td>0.00</td>\n",
       "    </tr>\n",
       "    <tr>\n",
       "      <th>3441</th>\n",
       "      <td>MCF-7wt</td>\n",
       "      <td>3</td>\n",
       "      <td>DMSO</td>\n",
       "      <td>0.00</td>\n",
       "    </tr>\n",
       "    <tr>\n",
       "      <th>3442</th>\n",
       "      <td>MCF-7wt</td>\n",
       "      <td>3</td>\n",
       "      <td>DMSO</td>\n",
       "      <td>0.00</td>\n",
       "    </tr>\n",
       "    <tr>\n",
       "      <th>3443</th>\n",
       "      <td>MCF-7wt</td>\n",
       "      <td>3</td>\n",
       "      <td>DMSO</td>\n",
       "      <td>0.00</td>\n",
       "    </tr>\n",
       "    <tr>\n",
       "      <th>3444</th>\n",
       "      <td>MCF-7wt</td>\n",
       "      <td>3</td>\n",
       "      <td>DMSO</td>\n",
       "      <td>0.00</td>\n",
       "    </tr>\n",
       "    <tr>\n",
       "      <th>3517</th>\n",
       "      <td>MCF-7wt</td>\n",
       "      <td>3</td>\n",
       "      <td>DMSO</td>\n",
       "      <td>0.00</td>\n",
       "    </tr>\n",
       "    <tr>\n",
       "      <th>3518</th>\n",
       "      <td>MCF-7wt</td>\n",
       "      <td>3</td>\n",
       "      <td>DMSO</td>\n",
       "      <td>0.00</td>\n",
       "    </tr>\n",
       "    <tr>\n",
       "      <th>3519</th>\n",
       "      <td>MCF-7wt</td>\n",
       "      <td>3</td>\n",
       "      <td>DMSO</td>\n",
       "      <td>0.00</td>\n",
       "    </tr>\n",
       "    <tr>\n",
       "      <th>3520</th>\n",
       "      <td>MCF-7wt</td>\n",
       "      <td>3</td>\n",
       "      <td>DMSO</td>\n",
       "      <td>0.00</td>\n",
       "    </tr>\n",
       "    <tr>\n",
       "      <th>3557</th>\n",
       "      <td>MCF-7wt</td>\n",
       "      <td>3</td>\n",
       "      <td>DMSO</td>\n",
       "      <td>0.00</td>\n",
       "    </tr>\n",
       "    <tr>\n",
       "      <th>3558</th>\n",
       "      <td>MCF-7wt</td>\n",
       "      <td>3</td>\n",
       "      <td>DMSO</td>\n",
       "      <td>0.00</td>\n",
       "    </tr>\n",
       "    <tr>\n",
       "      <th>3559</th>\n",
       "      <td>MCF-7wt</td>\n",
       "      <td>3</td>\n",
       "      <td>DMSO</td>\n",
       "      <td>0.00</td>\n",
       "    </tr>\n",
       "    <tr>\n",
       "      <th>3560</th>\n",
       "      <td>MCF-7wt</td>\n",
       "      <td>3</td>\n",
       "      <td>DMSO</td>\n",
       "      <td>0.00</td>\n",
       "    </tr>\n",
       "    <tr>\n",
       "      <th>3597</th>\n",
       "      <td>MCF-7wt</td>\n",
       "      <td>3</td>\n",
       "      <td>DMSO</td>\n",
       "      <td>0.00</td>\n",
       "    </tr>\n",
       "    <tr>\n",
       "      <th>3598</th>\n",
       "      <td>MCF-7wt</td>\n",
       "      <td>3</td>\n",
       "      <td>DMSO</td>\n",
       "      <td>0.00</td>\n",
       "    </tr>\n",
       "    <tr>\n",
       "      <th>3599</th>\n",
       "      <td>MCF-7wt</td>\n",
       "      <td>3</td>\n",
       "      <td>DMSO</td>\n",
       "      <td>0.00</td>\n",
       "    </tr>\n",
       "    <tr>\n",
       "      <th>3600</th>\n",
       "      <td>MCF-7wt</td>\n",
       "      <td>3</td>\n",
       "      <td>DMSO</td>\n",
       "      <td>0.00</td>\n",
       "    </tr>\n",
       "  </tbody>\n",
       "</table>\n",
       "<p>2528 rows × 4 columns</p>\n",
       "</div>"
      ],
      "text/plain": [
       "                        Cell_line  Replicate Image_Metadata_Compound  \\\n",
       "TableNumber ImageNumber                                                \n",
       "0           1             MCF-7wt          1                    DMSO   \n",
       "            2             MCF-7wt          1                    DMSO   \n",
       "            3             MCF-7wt          1                    DMSO   \n",
       "            4             MCF-7wt          1                    DMSO   \n",
       "            41            MCF-7wt          1                    DMSO   \n",
       "            42            MCF-7wt          1                    DMSO   \n",
       "            43            MCF-7wt          1                    DMSO   \n",
       "            44            MCF-7wt          1                    DMSO   \n",
       "            53            MCF-7wt          1                   AZ138   \n",
       "            54            MCF-7wt          1                   AZ138   \n",
       "            55            MCF-7wt          1                   AZ138   \n",
       "            56            MCF-7wt          1                   AZ138   \n",
       "            57            MCF-7wt          1                   AZ138   \n",
       "            58            MCF-7wt          1                   AZ138   \n",
       "            59            MCF-7wt          1                   AZ138   \n",
       "            60            MCF-7wt          1                   AZ138   \n",
       "            61            MCF-7wt          1                   AZ138   \n",
       "            62            MCF-7wt          1                   AZ138   \n",
       "            63            MCF-7wt          1                   AZ138   \n",
       "            64            MCF-7wt          1                   AZ138   \n",
       "            65            MCF-7wt          1                   AZ138   \n",
       "            66            MCF-7wt          1                   AZ138   \n",
       "            67            MCF-7wt          1                   AZ138   \n",
       "            68            MCF-7wt          1                   AZ138   \n",
       "            69            MCF-7wt          1                   AZ138   \n",
       "            70            MCF-7wt          1                   AZ138   \n",
       "            71            MCF-7wt          1                   AZ138   \n",
       "            72            MCF-7wt          1                   AZ138   \n",
       "            81            MCF-7wt          1                    DMSO   \n",
       "            82            MCF-7wt          1                    DMSO   \n",
       "...                           ...        ...                     ...   \n",
       "9           3319          MCF-7wt          2                    DMSO   \n",
       "            3320          MCF-7wt          2                    DMSO   \n",
       "            3357          MCF-7wt          2                    DMSO   \n",
       "            3358          MCF-7wt          2                    DMSO   \n",
       "            3359          MCF-7wt          2                    DMSO   \n",
       "            3360          MCF-7wt          2                    DMSO   \n",
       "            3361          MCF-7wt          3                    DMSO   \n",
       "            3362          MCF-7wt          3                    DMSO   \n",
       "            3363          MCF-7wt          3                    DMSO   \n",
       "            3364          MCF-7wt          3                    DMSO   \n",
       "            3401          MCF-7wt          3                    DMSO   \n",
       "            3402          MCF-7wt          3                    DMSO   \n",
       "            3403          MCF-7wt          3                    DMSO   \n",
       "            3404          MCF-7wt          3                    DMSO   \n",
       "            3441          MCF-7wt          3                    DMSO   \n",
       "            3442          MCF-7wt          3                    DMSO   \n",
       "            3443          MCF-7wt          3                    DMSO   \n",
       "            3444          MCF-7wt          3                    DMSO   \n",
       "            3517          MCF-7wt          3                    DMSO   \n",
       "            3518          MCF-7wt          3                    DMSO   \n",
       "            3519          MCF-7wt          3                    DMSO   \n",
       "            3520          MCF-7wt          3                    DMSO   \n",
       "            3557          MCF-7wt          3                    DMSO   \n",
       "            3558          MCF-7wt          3                    DMSO   \n",
       "            3559          MCF-7wt          3                    DMSO   \n",
       "            3560          MCF-7wt          3                    DMSO   \n",
       "            3597          MCF-7wt          3                    DMSO   \n",
       "            3598          MCF-7wt          3                    DMSO   \n",
       "            3599          MCF-7wt          3                    DMSO   \n",
       "            3600          MCF-7wt          3                    DMSO   \n",
       "\n",
       "                         Image_Metadata_Concentration  \n",
       "TableNumber ImageNumber                                \n",
       "0           1                                    0.00  \n",
       "            2                                    0.00  \n",
       "            3                                    0.00  \n",
       "            4                                    0.00  \n",
       "            41                                   0.00  \n",
       "            42                                   0.00  \n",
       "            43                                   0.00  \n",
       "            44                                   0.00  \n",
       "            53                                   3.00  \n",
       "            54                                   3.00  \n",
       "            55                                   3.00  \n",
       "            56                                   3.00  \n",
       "            57                                   1.00  \n",
       "            58                                   1.00  \n",
       "            59                                   1.00  \n",
       "            60                                   1.00  \n",
       "            61                                   0.30  \n",
       "            62                                   0.30  \n",
       "            63                                   0.30  \n",
       "            64                                   0.30  \n",
       "            65                                   0.10  \n",
       "            66                                   0.10  \n",
       "            67                                   0.10  \n",
       "            68                                   0.10  \n",
       "            69                                   0.03  \n",
       "            70                                   0.03  \n",
       "            71                                   0.03  \n",
       "            72                                   0.03  \n",
       "            81                                   0.00  \n",
       "            82                                   0.00  \n",
       "...                                               ...  \n",
       "9           3319                                 0.00  \n",
       "            3320                                 0.00  \n",
       "            3357                                 0.00  \n",
       "            3358                                 0.00  \n",
       "            3359                                 0.00  \n",
       "            3360                                 0.00  \n",
       "            3361                                 0.00  \n",
       "            3362                                 0.00  \n",
       "            3363                                 0.00  \n",
       "            3364                                 0.00  \n",
       "            3401                                 0.00  \n",
       "            3402                                 0.00  \n",
       "            3403                                 0.00  \n",
       "            3404                                 0.00  \n",
       "            3441                                 0.00  \n",
       "            3442                                 0.00  \n",
       "            3443                                 0.00  \n",
       "            3444                                 0.00  \n",
       "            3517                                 0.00  \n",
       "            3518                                 0.00  \n",
       "            3519                                 0.00  \n",
       "            3520                                 0.00  \n",
       "            3557                                 0.00  \n",
       "            3558                                 0.00  \n",
       "            3559                                 0.00  \n",
       "            3560                                 0.00  \n",
       "            3597                                 0.00  \n",
       "            3598                                 0.00  \n",
       "            3599                                 0.00  \n",
       "            3600                                 0.00  \n",
       "\n",
       "[2528 rows x 4 columns]"
      ]
     },
     "execution_count": 39,
     "metadata": {},
     "output_type": "execute_result"
    }
   ],
   "source": [
    "indexed_images"
   ]
  },
  {
   "cell_type": "code",
   "execution_count": null,
   "metadata": {
    "collapsed": true
   },
   "outputs": [],
   "source": []
  }
 ],
 "metadata": {
  "kernelspec": {
   "display_name": "Python 2",
   "language": "python",
   "name": "python2"
  },
  "language_info": {
   "codemirror_mode": {
    "name": "ipython",
    "version": 2
   },
   "file_extension": ".py",
   "mimetype": "text/x-python",
   "name": "python",
   "nbconvert_exporter": "python",
   "pygments_lexer": "ipython2",
   "version": "2.7.10"
  }
 },
 "nbformat": 4,
 "nbformat_minor": 0
}
